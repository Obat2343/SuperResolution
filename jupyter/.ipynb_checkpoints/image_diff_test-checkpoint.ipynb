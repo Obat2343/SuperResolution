{
 "cells": [
  {
   "cell_type": "code",
   "execution_count": 1,
   "metadata": {},
   "outputs": [],
   "source": [
    "import os\n",
    "import cv2\n",
    "import numpy as np\n",
    "from tqdm import tqdm"
   ]
  },
  {
   "cell_type": "code",
   "execution_count": 2,
   "metadata": {},
   "outputs": [],
   "source": [
    "dataset_path = os.path.abspath('../Dataset/DIV8K/train')\n",
    "data_path_list = os.listdir(dataset_path)\n",
    "data_path_list.sort()"
   ]
  },
  {
   "cell_type": "code",
   "execution_count": 3,
   "metadata": {},
   "outputs": [
    {
     "name": "stderr",
     "output_type": "stream",
     "text": [
      "100%|██████████| 1500/1500 [2:24:38<00:00,  5.79s/it]  "
     ]
    },
    {
     "name": "stdout",
     "output_type": "stream",
     "text": [
      "i:1 mean diff: 0.027235299253604073\n",
      "i:2 mean diff: 0.0401051084799908\n",
      "i:3 mean diff: 0.04751908034121252\n",
      "i:4 mean diff: 0.052936022927171894\n",
      "i:5 mean diff: 0.0572775560298598\n",
      "i:6 mean diff: 0.06091643341659148\n",
      "i:7 mean diff: 0.06405884687538163\n"
     ]
    },
    {
     "name": "stderr",
     "output_type": "stream",
     "text": [
      "\n"
     ]
    }
   ],
   "source": [
    "max_i = 8\n",
    "sum_diff = {}\n",
    "for i in range(1,max_i):\n",
    "    sum_diff[i] = 0\n",
    "\n",
    "for data_path in tqdm(data_path_list):\n",
    "    img_path = os.path.join(dataset_path, data_path)\n",
    "    img = cv2.imread(img_path)\n",
    "    for i in range(1,max_i):\n",
    "        img1 = img[i:,i:] / 255\n",
    "        img2 = img[:-i, :-i] / 255\n",
    "        diff = np.mean(np.abs(img1 - img2))\n",
    "        sum_diff[i] += diff\n",
    "\n",
    "for key in sum_diff.keys():\n",
    "    print('i:{} mean diff: {}'.format(key, sum_diff[key] / len(data_path_list)))"
   ]
  },
  {
   "cell_type": "code",
   "execution_count": 4,
   "metadata": {},
   "outputs": [
    {
     "name": "stderr",
     "output_type": "stream",
     "text": [
      " 30%|██▉       | 448/1500 [1:26:10<38:57:12, 133.30s/it]"
     ]
    },
    {
     "ename": "KeyboardInterrupt",
     "evalue": "",
     "output_type": "error",
     "traceback": [
      "\u001b[0;31m---------------------------------------------------------------------------\u001b[0m",
      "\u001b[0;31mKeyboardInterrupt\u001b[0m                         Traceback (most recent call last)",
      "\u001b[0;32m<ipython-input-4-ddf3e4da96cb>\u001b[0m in \u001b[0;36m<module>\u001b[0;34m\u001b[0m\n\u001b[1;32m     10\u001b[0m         \u001b[0mimg1\u001b[0m \u001b[0;34m=\u001b[0m \u001b[0mimg\u001b[0m \u001b[0;34m/\u001b[0m \u001b[0;36m255\u001b[0m\u001b[0;34m\u001b[0m\u001b[0;34m\u001b[0m\u001b[0m\n\u001b[1;32m     11\u001b[0m         \u001b[0mimg2\u001b[0m \u001b[0;34m=\u001b[0m \u001b[0mcv2\u001b[0m\u001b[0;34m.\u001b[0m\u001b[0mGaussianBlur\u001b[0m\u001b[0;34m(\u001b[0m\u001b[0mimg1\u001b[0m\u001b[0;34m,\u001b[0m\u001b[0;34m(\u001b[0m\u001b[0mi\u001b[0m\u001b[0;34m,\u001b[0m\u001b[0mi\u001b[0m\u001b[0;34m)\u001b[0m\u001b[0;34m,\u001b[0m\u001b[0;36m0\u001b[0m\u001b[0;34m)\u001b[0m\u001b[0;34m\u001b[0m\u001b[0;34m\u001b[0m\u001b[0m\n\u001b[0;32m---> 12\u001b[0;31m         \u001b[0mdiff\u001b[0m \u001b[0;34m=\u001b[0m \u001b[0mnp\u001b[0m\u001b[0;34m.\u001b[0m\u001b[0mmean\u001b[0m\u001b[0;34m(\u001b[0m\u001b[0mnp\u001b[0m\u001b[0;34m.\u001b[0m\u001b[0mabs\u001b[0m\u001b[0;34m(\u001b[0m\u001b[0mimg1\u001b[0m \u001b[0;34m-\u001b[0m \u001b[0mimg2\u001b[0m\u001b[0;34m)\u001b[0m\u001b[0;34m)\u001b[0m\u001b[0;34m\u001b[0m\u001b[0;34m\u001b[0m\u001b[0m\n\u001b[0m\u001b[1;32m     13\u001b[0m         \u001b[0msum_diff\u001b[0m\u001b[0;34m[\u001b[0m\u001b[0mi\u001b[0m\u001b[0;34m]\u001b[0m \u001b[0;34m+=\u001b[0m \u001b[0mdiff\u001b[0m\u001b[0;34m\u001b[0m\u001b[0;34m\u001b[0m\u001b[0m\n\u001b[1;32m     14\u001b[0m \u001b[0;34m\u001b[0m\u001b[0m\n",
      "\u001b[0;31mKeyboardInterrupt\u001b[0m: "
     ]
    }
   ],
   "source": [
    "blur_list = [3,7,11,15,19]\n",
    "sum_diff = {}\n",
    "for i in blur_list:\n",
    "    sum_diff[i] = 0\n",
    "\n",
    "for data_path in tqdm(data_path_list):\n",
    "    img_path = os.path.join(dataset_path, data_path)\n",
    "    img = cv2.imread(img_path)\n",
    "    for i in blur_list:\n",
    "        img1 = img / 255\n",
    "        img2 = cv2.GaussianBlur(img1,(i,i),0)\n",
    "        diff = np.mean(np.abs(img1 - img2))\n",
    "        sum_diff[i] += diff\n",
    "\n",
    "for key in sum_diff.keys():\n",
    "    print('i:{} mean diff: {}'.format(key, sum_diff[key] / len(data_path_list)))"
   ]
  },
  {
   "cell_type": "code",
   "execution_count": null,
   "metadata": {},
   "outputs": [],
   "source": []
  }
 ],
 "metadata": {
  "kernelspec": {
   "display_name": "Python 3",
   "language": "python",
   "name": "python3"
  },
  "language_info": {
   "codemirror_mode": {
    "name": "ipython",
    "version": 3
   },
   "file_extension": ".py",
   "mimetype": "text/x-python",
   "name": "python",
   "nbconvert_exporter": "python",
   "pygments_lexer": "ipython3",
   "version": "3.6.9"
  }
 },
 "nbformat": 4,
 "nbformat_minor": 4
}
